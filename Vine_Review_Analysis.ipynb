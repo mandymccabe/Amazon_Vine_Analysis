{
  "nbformat": 4,
  "nbformat_minor": 0,
  "metadata": {
    "colab": {
      "name": "Vine_Review_Analysis.ipynb",
      "provenance": []
    },
    "kernelspec": {
      "name": "python3",
      "display_name": "Python 3"
    },
    "nteract": {
      "version": "0.12.3"
    },
    "language_info": {
      "name": "python"
    }
  },
  "cells": [
    {
      "cell_type": "code",
      "metadata": {
        "id": "V58rxea0HqSa",
        "colab": {
          "base_uri": "https://localhost:8080/"
        },
        "outputId": "1ac338a0-7c79-4688-ccce-b4458ceb2e01"
      },
      "source": [
        "import os\n",
        "# Find the latest version of spark 3.0 from http://www.apache.org/dist/spark/ and enter as the spark version\n",
        "# For example:\n",
        "# spark_version = 'spark-3.0.3'\n",
        "spark_version = 'spark-3.2.1'\n",
        "os.environ['SPARK_VERSION']=spark_version\n",
        "\n",
        "# Install Spark and Java\n",
        "!apt-get update\n",
        "!apt-get install openjdk-11-jdk-headless -qq > /dev/null\n",
        "!wget -q http://www.apache.org/dist/spark/$SPARK_VERSION/$SPARK_VERSION-bin-hadoop2.7.tgz\n",
        "!tar xf $SPARK_VERSION-bin-hadoop2.7.tgz\n",
        "!pip install -q findspark\n",
        "\n",
        "# Set Environment Variables\n",
        "import os\n",
        "os.environ[\"JAVA_HOME\"] = \"/usr/lib/jvm/java-11-openjdk-amd64\"\n",
        "os.environ[\"SPARK_HOME\"] = f\"/content/{spark_version}-bin-hadoop2.7\"\n",
        "\n",
        "# Start a SparkSession\n",
        "import findspark\n",
        "findspark.init()"
      ],
      "execution_count": 1,
      "outputs": [
        {
          "output_type": "stream",
          "name": "stdout",
          "text": [
            "Get:1 https://cloud.r-project.org/bin/linux/ubuntu bionic-cran40/ InRelease [3,626 B]\n",
            "Ign:2 https://developer.download.nvidia.com/compute/cuda/repos/ubuntu1804/x86_64  InRelease\n",
            "Ign:3 https://developer.download.nvidia.com/compute/machine-learning/repos/ubuntu1804/x86_64  InRelease\n",
            "Get:4 https://developer.download.nvidia.com/compute/cuda/repos/ubuntu1804/x86_64  Release [696 B]\n",
            "Hit:5 https://developer.download.nvidia.com/compute/machine-learning/repos/ubuntu1804/x86_64  Release\n",
            "Get:6 https://developer.download.nvidia.com/compute/cuda/repos/ubuntu1804/x86_64  Release.gpg [836 B]\n",
            "Hit:7 http://archive.ubuntu.com/ubuntu bionic InRelease\n",
            "Get:8 http://security.ubuntu.com/ubuntu bionic-security InRelease [88.7 kB]\n",
            "Get:9 http://ppa.launchpad.net/c2d4u.team/c2d4u4.0+/ubuntu bionic InRelease [15.9 kB]\n",
            "Get:10 http://archive.ubuntu.com/ubuntu bionic-updates InRelease [88.7 kB]\n",
            "Get:12 https://developer.download.nvidia.com/compute/cuda/repos/ubuntu1804/x86_64  Packages [953 kB]\n",
            "Get:13 http://archive.ubuntu.com/ubuntu bionic-backports InRelease [74.6 kB]\n",
            "Hit:14 http://ppa.launchpad.net/cran/libgit2/ubuntu bionic InRelease\n",
            "Get:15 http://ppa.launchpad.net/deadsnakes/ppa/ubuntu bionic InRelease [15.9 kB]\n",
            "Get:16 http://security.ubuntu.com/ubuntu bionic-security/main amd64 Packages [2,695 kB]\n",
            "Hit:17 http://ppa.launchpad.net/graphics-drivers/ppa/ubuntu bionic InRelease\n",
            "Get:18 http://archive.ubuntu.com/ubuntu bionic-updates/universe amd64 Packages [2,268 kB]\n",
            "Get:19 http://ppa.launchpad.net/c2d4u.team/c2d4u4.0+/ubuntu bionic/main Sources [1,947 kB]\n",
            "Get:20 http://security.ubuntu.com/ubuntu bionic-security/universe amd64 Packages [1,490 kB]\n",
            "Get:21 http://archive.ubuntu.com/ubuntu bionic-updates/main amd64 Packages [3,134 kB]\n",
            "Get:22 http://ppa.launchpad.net/c2d4u.team/c2d4u4.0+/ubuntu bionic/main amd64 Packages [996 kB]\n",
            "Get:23 http://ppa.launchpad.net/deadsnakes/ppa/ubuntu bionic/main amd64 Packages [45.3 kB]\n",
            "Fetched 13.8 MB in 8s (1,672 kB/s)\n",
            "Reading package lists... Done\n"
          ]
        }
      ]
    },
    {
      "cell_type": "code",
      "metadata": {
        "id": "_xKwTpATHqSe",
        "colab": {
          "base_uri": "https://localhost:8080/"
        },
        "outputId": "07848dd8-cff9-4615-b450-f10efe2f74ab"
      },
      "source": [
        "# Download the Postgres driver that will allow Spark to interact with Postgres.\n",
        "!wget https://jdbc.postgresql.org/download/postgresql-42.2.16.jar"
      ],
      "execution_count": 2,
      "outputs": [
        {
          "output_type": "stream",
          "name": "stdout",
          "text": [
            "--2022-04-17 15:01:17--  https://jdbc.postgresql.org/download/postgresql-42.2.16.jar\n",
            "Resolving jdbc.postgresql.org (jdbc.postgresql.org)... 72.32.157.228, 2001:4800:3e1:1::228\n",
            "Connecting to jdbc.postgresql.org (jdbc.postgresql.org)|72.32.157.228|:443... connected.\n",
            "HTTP request sent, awaiting response... 200 OK\n",
            "Length: 1002883 (979K) [application/java-archive]\n",
            "Saving to: ‘postgresql-42.2.16.jar’\n",
            "\n",
            "postgresql-42.2.16. 100%[===================>] 979.38K  1.22MB/s    in 0.8s    \n",
            "\n",
            "2022-04-17 15:01:19 (1.22 MB/s) - ‘postgresql-42.2.16.jar’ saved [1002883/1002883]\n",
            "\n"
          ]
        }
      ]
    },
    {
      "cell_type": "code",
      "metadata": {
        "id": "MMqDAjVS0KN9"
      },
      "source": [
        "from pyspark.sql import SparkSession\n",
        "spark = SparkSession.builder.appName(\"M16-Amazon-Challenge\").config(\"spark.driver.extraClassPath\",\"/content/postgresql-42.2.16.jar\").getOrCreate()"
      ],
      "execution_count": 3,
      "outputs": []
    },
    {
      "cell_type": "markdown",
      "metadata": {
        "id": "cyBsySGuY-9V"
      },
      "source": [
        "### Load Amazon Data into Spark DataFrame"
      ]
    },
    {
      "cell_type": "code",
      "metadata": {
        "id": "CtCmBhQJY-9Z",
        "colab": {
          "base_uri": "https://localhost:8080/"
        },
        "outputId": "b67f45b5-f527-4158-c23d-2785d3c9659b"
      },
      "source": [
        "from pyspark import SparkFiles\n",
        "url = \"https://s3.amazonaws.com/amazon-reviews-pds/tsv/amazon_reviews_us_Home_Improvement_v1_00.tsv.gz\"\n",
        "spark.sparkContext.addFile(url)\n",
        "df = spark.read.option(\"encoding\", \"UTF-8\").csv(SparkFiles.get(\"\"), sep=\"\\t\", header=True, inferSchema=True)\n",
        "df.show()"
      ],
      "execution_count": 4,
      "outputs": [
        {
          "output_type": "stream",
          "name": "stdout",
          "text": [
            "+-----------+-----------+--------------+----------+--------------+--------------------+----------------+-----------+-------------+-----------+----+-----------------+--------------------+--------------------+-----------+\n",
            "|marketplace|customer_id|     review_id|product_id|product_parent|       product_title|product_category|star_rating|helpful_votes|total_votes|vine|verified_purchase|     review_headline|         review_body|review_date|\n",
            "+-----------+-----------+--------------+----------+--------------+--------------------+----------------+-----------+-------------+-----------+----+-----------------+--------------------+--------------------+-----------+\n",
            "|         US|   48881148|R215C9BDXTDQOW|B00FR4YQYK|     381800308|SadoTech Model C ...|Home Improvement|          4|            0|          0|   N|                Y|          Four Stars|        good product| 2015-08-31|\n",
            "|         US|   47882936|R1DTPUV1J57YHA|B00439MYYE|     921341748|iSpring T32M 3.2 ...|Home Improvement|          5|            0|          0|   N|                Y|Good price, quick...|Good price, quick...| 2015-08-31|\n",
            "|         US|   44435471| RFAZK5EWKJWOU|B00002N762|      56053291|Schlage F10CS V E...|Home Improvement|          5|            0|          0|   N|                Y|          Five Stars|       Excellent...!| 2015-08-31|\n",
            "|         US|   28377689|R2XT8X0O0WS1AL|B000QFCP1G|     595928517|Citri-Strip QCG73...|Home Improvement|          5|            0|          0|   N|                Y|Although *slightl...|Although *slightl...| 2015-08-31|\n",
            "|         US|   50134766|R14GRNANKO2Y2J|B00WRCRKOI|     417053744|SleekLighting Bul...|Home Improvement|          5|            0|          0|   N|                Y|      Great Adapters|These adapters ar...| 2015-08-31|\n",
            "|         US|   14066511|R2BLF9VYL24LCQ|B00NIH88EW|     275395071|VDOMUS&reg;Exquis...|Home Improvement|          5|            1|          1|   N|                Y|                nice|awesome and great...| 2015-08-31|\n",
            "|         US|   15211046|R1GI9UW5KJ671O|B005B9CI96|     856617815|Frigidaire 316075...|Home Improvement|          5|            0|          0|   N|                Y|          Five Stars|Perfect. Exactly ...| 2015-08-31|\n",
            "|         US|   14862498|R2H5CEJN863M86|B008L0OMWI|     125102494|Anyray® 5-Bulbs 7...|Home Improvement|          5|            0|          1|   N|                Y|So far working gr...|So far working gr...| 2015-08-31|\n",
            "|         US|   23617292| R5PPDHFOZ3SMU|B00P9FTC6O|     523110842|Cambridge 100 pcs...|Home Improvement|          5|            0|          0|   N|                Y|           Ties tie.|Not much to say a...| 2015-08-31|\n",
            "|         US|   35820485| RE1L9IENKJJ7Y|B00K6BQEHQ|     797306964|EUBUY Silver Tone...|Home Improvement|          1|            0|          0|   N|                Y|             GARBAGE|       crap quality.| 2015-08-31|\n",
            "|         US|   47162350|R3CZ0990QC2Z0H|B008BYQCWM|     865874404|Legend 809125 Leg...|Home Improvement|          5|            0|          0|   N|                Y|          Five Stars|  Good. As expected.| 2015-08-31|\n",
            "|         US|   31884789|R3UMMD2IO29QSP|B003BLHTOU|     183592595|Forearm Forklift ...|Home Improvement|          5|            0|          0|   N|                Y|           It works!|My husband and I ...| 2015-08-31|\n",
            "|         US|   43835770| R541LE5J3OJH2|B0065I114K|     185006358|Newer Technology ...|Home Improvement|          5|            0|          0|   N|                Y|          Five Stars|     works perfectly| 2015-08-31|\n",
            "|         US|   26212294|R10KD9FIE6Y1AS|B00J9XB6BQ|      53423207|Rok Hardware 25 P...|Home Improvement|          5|            0|          0|   N|                Y|Banging cabinet d...|Banging cabinet d...| 2015-08-31|\n",
            "|         US|   17876704|R1YT5YG0QG5DCG|B00K36NJ0E|     593464633|Drift Light Using...|Home Improvement|          5|            0|          0|   N|                Y|Great product for...|Great product for...| 2015-08-31|\n",
            "|         US|   22813225|R207LXJWL40V1S|B000ZIEOHW|     833911812|Troy DPH11 Profes...|Home Improvement|          4|            0|          0|   N|                Y|GETTING THE JOB D...|Drywalling our 18...| 2015-08-31|\n",
            "|         US|   25448576| RIDP0ZD7WT9DE|B0009YDHKC|     852173443|Wright Products V...|Home Improvement|          5|            0|          0|   N|                Y|          Five Stars|exact replacement...| 2015-08-31|\n",
            "|         US|   19754503|R2XJSNZ9219U1Z|B00LBGVLS2|     929968058|LiftMaster Garage...|Home Improvement|          5|            0|          0|   N|                Y|Easy to program g...|Works as advertis...| 2015-08-31|\n",
            "|         US|   17767084|R2M9F1FVVDOGFL|B00002N5DY|     830214712|Heath Zenith SL-5...|Home Improvement|          5|            0|          0|   N|                Y|     easy to install|Working well the ...| 2015-08-31|\n",
            "|         US|   48001709|R1QTOSE2BHU2LJ|B000BQOX88|     498022954|Intermatic T101 2...|Home Improvement|          3|            1|          2|   N|                Y|Kind of disappoin...|I connected the r...| 2015-08-31|\n",
            "+-----------+-----------+--------------+----------+--------------+--------------------+----------------+-----------+-------------+-----------+----+-----------------+--------------------+--------------------+-----------+\n",
            "only showing top 20 rows\n",
            "\n"
          ]
        }
      ]
    },
    {
      "cell_type": "markdown",
      "metadata": {
        "id": "2yUSe55VY-9t"
      },
      "source": [
        "### Create DataFrames to match tables"
      ]
    },
    {
      "cell_type": "code",
      "metadata": {
        "id": "lzMmkdKmY--D",
        "colab": {
          "base_uri": "https://localhost:8080/"
        },
        "outputId": "cb0f0766-f17e-4c4b-b217-e3b242b5a820"
      },
      "source": [
        "# Create the vine_table. DataFrame\n",
        "vine_df = df.select(['review_id', 'star_rating', 'helpful_votes', 'total_votes', 'vine', 'verified_purchase'])\n",
        "vine_df.show()"
      ],
      "execution_count": 5,
      "outputs": [
        {
          "output_type": "stream",
          "name": "stdout",
          "text": [
            "+--------------+-----------+-------------+-----------+----+-----------------+\n",
            "|     review_id|star_rating|helpful_votes|total_votes|vine|verified_purchase|\n",
            "+--------------+-----------+-------------+-----------+----+-----------------+\n",
            "|R215C9BDXTDQOW|          4|            0|          0|   N|                Y|\n",
            "|R1DTPUV1J57YHA|          5|            0|          0|   N|                Y|\n",
            "| RFAZK5EWKJWOU|          5|            0|          0|   N|                Y|\n",
            "|R2XT8X0O0WS1AL|          5|            0|          0|   N|                Y|\n",
            "|R14GRNANKO2Y2J|          5|            0|          0|   N|                Y|\n",
            "|R2BLF9VYL24LCQ|          5|            1|          1|   N|                Y|\n",
            "|R1GI9UW5KJ671O|          5|            0|          0|   N|                Y|\n",
            "|R2H5CEJN863M86|          5|            0|          1|   N|                Y|\n",
            "| R5PPDHFOZ3SMU|          5|            0|          0|   N|                Y|\n",
            "| RE1L9IENKJJ7Y|          1|            0|          0|   N|                Y|\n",
            "|R3CZ0990QC2Z0H|          5|            0|          0|   N|                Y|\n",
            "|R3UMMD2IO29QSP|          5|            0|          0|   N|                Y|\n",
            "| R541LE5J3OJH2|          5|            0|          0|   N|                Y|\n",
            "|R10KD9FIE6Y1AS|          5|            0|          0|   N|                Y|\n",
            "|R1YT5YG0QG5DCG|          5|            0|          0|   N|                Y|\n",
            "|R207LXJWL40V1S|          4|            0|          0|   N|                Y|\n",
            "| RIDP0ZD7WT9DE|          5|            0|          0|   N|                Y|\n",
            "|R2XJSNZ9219U1Z|          5|            0|          0|   N|                Y|\n",
            "|R2M9F1FVVDOGFL|          5|            0|          0|   N|                Y|\n",
            "|R1QTOSE2BHU2LJ|          3|            1|          2|   N|                Y|\n",
            "+--------------+-----------+-------------+-----------+----+-----------------+\n",
            "only showing top 20 rows\n",
            "\n"
          ]
        }
      ]
    },
    {
      "cell_type": "markdown",
      "source": [
        "DELIVERABLE 2"
      ],
      "metadata": {
        "id": "bB1GxMSkEUIm"
      }
    },
    {
      "cell_type": "code",
      "source": [
        "filtered_vine_df = vine_df.filter(vine_df.total_votes>19)\n",
        "filtered_vine_df.show()"
      ],
      "metadata": {
        "id": "IYfBlD_REYlm",
        "colab": {
          "base_uri": "https://localhost:8080/"
        },
        "outputId": "018704c5-1c51-4c71-99cf-6595a0342e8e"
      },
      "execution_count": 6,
      "outputs": [
        {
          "output_type": "stream",
          "name": "stdout",
          "text": [
            "+--------------+-----------+-------------+-----------+----+-----------------+\n",
            "|     review_id|star_rating|helpful_votes|total_votes|vine|verified_purchase|\n",
            "+--------------+-----------+-------------+-----------+----+-----------------+\n",
            "|R2VIQ3UX794Q0O|          4|           21|         21|   N|                Y|\n",
            "|R1OA24IIHWF54G|          5|           43|         45|   N|                Y|\n",
            "| RJ7N3OOJR9RL0|          4|           63|         71|   N|                Y|\n",
            "|R1W8778CBXSRU6|          5|           28|         29|   N|                Y|\n",
            "|R2EFAM03SWLIJX|          1|           32|         35|   N|                Y|\n",
            "|R3F8P56ZDJ6PI8|          4|          106|        115|   N|                Y|\n",
            "|R2QYLQEK9UAJQ6|          5|           33|         34|   N|                Y|\n",
            "| RQCC7XNYI014B|          1|           91|         92|   N|                Y|\n",
            "|R2U8FRHRVW5D2C|          5|           23|         23|   N|                N|\n",
            "|R3RJZC5J4VP7AT|          4|           86|         91|   N|                N|\n",
            "|R2KBV3A9X53ULG|          5|           39|         45|   N|                Y|\n",
            "|R18XX6GVZ41CY1|          5|           21|         22|   N|                N|\n",
            "|R3V8NHJWQWOU7S|          5|           27|         27|   N|                Y|\n",
            "|R25FJV7A58YHEM|          1|           19|         22|   N|                Y|\n",
            "|R285Z02CQJJ36C|          3|           45|         48|   N|                Y|\n",
            "| R5UJCOLQBEADG|          1|           31|         35|   N|                Y|\n",
            "|R1KEUH7SZ9BIRK|          1|           20|         20|   N|                Y|\n",
            "|R16U59S8ZJGPLY|          5|           64|         64|   N|                Y|\n",
            "|R233D4SD2MHUZG|          5|           20|         20|   N|                Y|\n",
            "| RVDGV2G8PEUH2|          1|           13|         21|   N|                N|\n",
            "+--------------+-----------+-------------+-----------+----+-----------------+\n",
            "only showing top 20 rows\n",
            "\n"
          ]
        }
      ]
    },
    {
      "cell_type": "code",
      "source": [
        "helpful_votes_df = filtered_vine_df.withColumn('Helpful_Total_Votes',filtered_vine_df['helpful_votes']/filtered_vine_df['total_votes']).filter(('Helpful_Total_Votes>=.5') )\n",
        "helpful_votes_df.show()"
      ],
      "metadata": {
        "colab": {
          "base_uri": "https://localhost:8080/"
        },
        "id": "RxF4IXYgF5Mu",
        "outputId": "48e1f5ca-d2c8-4c7c-d585-00d108f73cf6"
      },
      "execution_count": 7,
      "outputs": [
        {
          "output_type": "stream",
          "name": "stdout",
          "text": [
            "+--------------+-----------+-------------+-----------+----+-----------------+-------------------+\n",
            "|     review_id|star_rating|helpful_votes|total_votes|vine|verified_purchase|Helpful_Total_Votes|\n",
            "+--------------+-----------+-------------+-----------+----+-----------------+-------------------+\n",
            "|R2VIQ3UX794Q0O|          4|           21|         21|   N|                Y|                1.0|\n",
            "|R1OA24IIHWF54G|          5|           43|         45|   N|                Y| 0.9555555555555556|\n",
            "| RJ7N3OOJR9RL0|          4|           63|         71|   N|                Y| 0.8873239436619719|\n",
            "|R1W8778CBXSRU6|          5|           28|         29|   N|                Y| 0.9655172413793104|\n",
            "|R2EFAM03SWLIJX|          1|           32|         35|   N|                Y| 0.9142857142857143|\n",
            "|R3F8P56ZDJ6PI8|          4|          106|        115|   N|                Y| 0.9217391304347826|\n",
            "|R2QYLQEK9UAJQ6|          5|           33|         34|   N|                Y| 0.9705882352941176|\n",
            "| RQCC7XNYI014B|          1|           91|         92|   N|                Y| 0.9891304347826086|\n",
            "|R2U8FRHRVW5D2C|          5|           23|         23|   N|                N|                1.0|\n",
            "|R3RJZC5J4VP7AT|          4|           86|         91|   N|                N|  0.945054945054945|\n",
            "|R2KBV3A9X53ULG|          5|           39|         45|   N|                Y| 0.8666666666666667|\n",
            "|R18XX6GVZ41CY1|          5|           21|         22|   N|                N| 0.9545454545454546|\n",
            "|R3V8NHJWQWOU7S|          5|           27|         27|   N|                Y|                1.0|\n",
            "|R25FJV7A58YHEM|          1|           19|         22|   N|                Y| 0.8636363636363636|\n",
            "|R285Z02CQJJ36C|          3|           45|         48|   N|                Y|             0.9375|\n",
            "| R5UJCOLQBEADG|          1|           31|         35|   N|                Y| 0.8857142857142857|\n",
            "|R1KEUH7SZ9BIRK|          1|           20|         20|   N|                Y|                1.0|\n",
            "|R16U59S8ZJGPLY|          5|           64|         64|   N|                Y|                1.0|\n",
            "|R233D4SD2MHUZG|          5|           20|         20|   N|                Y|                1.0|\n",
            "| RVDGV2G8PEUH2|          1|           13|         21|   N|                N| 0.6190476190476191|\n",
            "+--------------+-----------+-------------+-----------+----+-----------------+-------------------+\n",
            "only showing top 20 rows\n",
            "\n"
          ]
        }
      ]
    },
    {
      "cell_type": "code",
      "source": [
        "vine_votes_df = helpful_votes_df.filter(helpful_votes_df.vine == 'Y')\n",
        "vine_votes_df.show()"
      ],
      "metadata": {
        "colab": {
          "base_uri": "https://localhost:8080/"
        },
        "id": "KLGTiOyiK2p0",
        "outputId": "17b87d72-fa31-4d37-e29e-7285665d34c6"
      },
      "execution_count": 8,
      "outputs": [
        {
          "output_type": "stream",
          "name": "stdout",
          "text": [
            "+--------------+-----------+-------------+-----------+----+-----------------+-------------------+\n",
            "|     review_id|star_rating|helpful_votes|total_votes|vine|verified_purchase|Helpful_Total_Votes|\n",
            "+--------------+-----------+-------------+-----------+----+-----------------+-------------------+\n",
            "|R29V4UDSS053D8|          3|           33|         38|   Y|                N|  0.868421052631579|\n",
            "|R1I2D068WC37PA|          3|           32|         37|   Y|                N| 0.8648648648648649|\n",
            "|R13W2U74F67QED|          5|           62|         76|   Y|                N| 0.8157894736842105|\n",
            "|R2QI37XFOBKUGD|          4|           24|         33|   Y|                N| 0.7272727272727273|\n",
            "|R19F60BB2DNCKN|          5|          170|        174|   Y|                N| 0.9770114942528736|\n",
            "|R2PYNEWYYQDWHI|          5|           24|         27|   Y|                N| 0.8888888888888888|\n",
            "|R1UEWHCPJL2XJB|          5|           70|         72|   Y|                N| 0.9722222222222222|\n",
            "| RXTMMEBRYZB53|          5|           21|         24|   Y|                N|              0.875|\n",
            "|R1PXVYIYMYGUZL|          5|           21|         26|   Y|                N| 0.8076923076923077|\n",
            "| RSFMJJXFZHX1C|          5|           24|         25|   Y|                N|               0.96|\n",
            "|R3AGOANU5B89WE|          4|           20|         21|   Y|                N| 0.9523809523809523|\n",
            "|R1Z849RVP83BSJ|          5|           21|         23|   Y|                N| 0.9130434782608695|\n",
            "|R2HQVKK2QW0EAT|          5|           20|         24|   Y|                N| 0.8333333333333334|\n",
            "|  RHSOAAAT5UVP|          5|           55|         56|   Y|                N| 0.9821428571428571|\n",
            "| RZXDK1RE3YQ97|          4|           18|         21|   Y|                N| 0.8571428571428571|\n",
            "|R2IQH4H2S5EROF|          5|           23|         24|   Y|                N| 0.9583333333333334|\n",
            "| R2BQ1FHU7OQPQ|          5|          212|        220|   Y|                N| 0.9636363636363636|\n",
            "| RH1A5XB16O3BM|          4|           28|         32|   Y|                N|              0.875|\n",
            "| R4MAE8LHKDZMG|          5|           36|         39|   Y|                Y| 0.9230769230769231|\n",
            "|R2QLNOOJ4J16D2|          3|          111|        118|   Y|                N|  0.940677966101695|\n",
            "+--------------+-----------+-------------+-----------+----+-----------------+-------------------+\n",
            "only showing top 20 rows\n",
            "\n"
          ]
        }
      ]
    },
    {
      "cell_type": "code",
      "source": [
        "vine_votes_df.count()"
      ],
      "metadata": {
        "id": "uqOv6SeYNx5V",
        "colab": {
          "base_uri": "https://localhost:8080/"
        },
        "outputId": "946c0f1a-7ea6-48ee-897d-86a621cf8e94"
      },
      "execution_count": 9,
      "outputs": [
        {
          "output_type": "execute_result",
          "data": {
            "text/plain": [
              "266"
            ]
          },
          "metadata": {},
          "execution_count": 9
        }
      ]
    },
    {
      "cell_type": "code",
      "source": [
        "vine_5_star = vine_votes_df.filter(vine_votes_df.star_rating == 5)\n",
        "vine_5_star.show()"
      ],
      "metadata": {
        "colab": {
          "base_uri": "https://localhost:8080/"
        },
        "id": "VdR-6Cm4_GCo",
        "outputId": "1fc92c49-aae5-4c3f-cc4e-ba70ec81ad10"
      },
      "execution_count": 10,
      "outputs": [
        {
          "output_type": "stream",
          "name": "stdout",
          "text": [
            "+--------------+-----------+-------------+-----------+----+-----------------+-------------------+\n",
            "|     review_id|star_rating|helpful_votes|total_votes|vine|verified_purchase|Helpful_Total_Votes|\n",
            "+--------------+-----------+-------------+-----------+----+-----------------+-------------------+\n",
            "|R13W2U74F67QED|          5|           62|         76|   Y|                N| 0.8157894736842105|\n",
            "|R19F60BB2DNCKN|          5|          170|        174|   Y|                N| 0.9770114942528736|\n",
            "|R2PYNEWYYQDWHI|          5|           24|         27|   Y|                N| 0.8888888888888888|\n",
            "|R1UEWHCPJL2XJB|          5|           70|         72|   Y|                N| 0.9722222222222222|\n",
            "| RXTMMEBRYZB53|          5|           21|         24|   Y|                N|              0.875|\n",
            "|R1PXVYIYMYGUZL|          5|           21|         26|   Y|                N| 0.8076923076923077|\n",
            "| RSFMJJXFZHX1C|          5|           24|         25|   Y|                N|               0.96|\n",
            "|R1Z849RVP83BSJ|          5|           21|         23|   Y|                N| 0.9130434782608695|\n",
            "|R2HQVKK2QW0EAT|          5|           20|         24|   Y|                N| 0.8333333333333334|\n",
            "|  RHSOAAAT5UVP|          5|           55|         56|   Y|                N| 0.9821428571428571|\n",
            "|R2IQH4H2S5EROF|          5|           23|         24|   Y|                N| 0.9583333333333334|\n",
            "| R2BQ1FHU7OQPQ|          5|          212|        220|   Y|                N| 0.9636363636363636|\n",
            "| R4MAE8LHKDZMG|          5|           36|         39|   Y|                Y| 0.9230769230769231|\n",
            "| RNEY81WQ79GEG|          5|           40|         42|   Y|                N| 0.9523809523809523|\n",
            "|R2ZMAYMCPJQNI2|          5|           33|         39|   Y|                N| 0.8461538461538461|\n",
            "| RWX30E8NG2N79|          5|           19|         20|   Y|                N|               0.95|\n",
            "|R20O6EBD4F4L3Q|          5|           25|         27|   Y|                N| 0.9259259259259259|\n",
            "|R1K37DH3NTUGSD|          5|           90|         92|   Y|                N| 0.9782608695652174|\n",
            "|R1CGJLOSQNH97D|          5|           30|         34|   Y|                N| 0.8823529411764706|\n",
            "|R2KNX9Q0PVXHW2|          5|           64|         67|   Y|                N| 0.9552238805970149|\n",
            "+--------------+-----------+-------------+-----------+----+-----------------+-------------------+\n",
            "only showing top 20 rows\n",
            "\n"
          ]
        }
      ]
    },
    {
      "cell_type": "code",
      "source": [
        "vine_5_star.count()"
      ],
      "metadata": {
        "colab": {
          "base_uri": "https://localhost:8080/"
        },
        "id": "Ynq-Bf1c_vyI",
        "outputId": "4cc0d3a0-90ed-43de-e9d7-738eb9d4afd2"
      },
      "execution_count": 11,
      "outputs": [
        {
          "output_type": "execute_result",
          "data": {
            "text/plain": [
              "125"
            ]
          },
          "metadata": {},
          "execution_count": 11
        }
      ]
    },
    {
      "cell_type": "code",
      "source": [
        "(vine_5_star.count()/ vine_votes_df.count())*100"
      ],
      "metadata": {
        "colab": {
          "base_uri": "https://localhost:8080/"
        },
        "id": "C72oh1e1_1Ss",
        "outputId": "37972d32-f321-4a50-b5eb-1aa82ad9c5d6"
      },
      "execution_count": 12,
      "outputs": [
        {
          "output_type": "execute_result",
          "data": {
            "text/plain": [
              "46.99248120300752"
            ]
          },
          "metadata": {},
          "execution_count": 12
        }
      ]
    },
    {
      "cell_type": "code",
      "source": [
        "non_vine_votes_df = helpful_votes_df.filter(helpful_votes_df.vine == 'N')\n",
        "non_vine_votes_df.show()"
      ],
      "metadata": {
        "colab": {
          "base_uri": "https://localhost:8080/"
        },
        "id": "ThHsm1_pNZJU",
        "outputId": "c1c812f7-b2e3-40a8-f012-493ee48a62dc"
      },
      "execution_count": 13,
      "outputs": [
        {
          "output_type": "stream",
          "name": "stdout",
          "text": [
            "+--------------+-----------+-------------+-----------+----+-----------------+-------------------+\n",
            "|     review_id|star_rating|helpful_votes|total_votes|vine|verified_purchase|Helpful_Total_Votes|\n",
            "+--------------+-----------+-------------+-----------+----+-----------------+-------------------+\n",
            "|R2VIQ3UX794Q0O|          4|           21|         21|   N|                Y|                1.0|\n",
            "|R1OA24IIHWF54G|          5|           43|         45|   N|                Y| 0.9555555555555556|\n",
            "| RJ7N3OOJR9RL0|          4|           63|         71|   N|                Y| 0.8873239436619719|\n",
            "|R1W8778CBXSRU6|          5|           28|         29|   N|                Y| 0.9655172413793104|\n",
            "|R2EFAM03SWLIJX|          1|           32|         35|   N|                Y| 0.9142857142857143|\n",
            "|R3F8P56ZDJ6PI8|          4|          106|        115|   N|                Y| 0.9217391304347826|\n",
            "|R2QYLQEK9UAJQ6|          5|           33|         34|   N|                Y| 0.9705882352941176|\n",
            "| RQCC7XNYI014B|          1|           91|         92|   N|                Y| 0.9891304347826086|\n",
            "|R2U8FRHRVW5D2C|          5|           23|         23|   N|                N|                1.0|\n",
            "|R3RJZC5J4VP7AT|          4|           86|         91|   N|                N|  0.945054945054945|\n",
            "|R2KBV3A9X53ULG|          5|           39|         45|   N|                Y| 0.8666666666666667|\n",
            "|R18XX6GVZ41CY1|          5|           21|         22|   N|                N| 0.9545454545454546|\n",
            "|R3V8NHJWQWOU7S|          5|           27|         27|   N|                Y|                1.0|\n",
            "|R25FJV7A58YHEM|          1|           19|         22|   N|                Y| 0.8636363636363636|\n",
            "|R285Z02CQJJ36C|          3|           45|         48|   N|                Y|             0.9375|\n",
            "| R5UJCOLQBEADG|          1|           31|         35|   N|                Y| 0.8857142857142857|\n",
            "|R1KEUH7SZ9BIRK|          1|           20|         20|   N|                Y|                1.0|\n",
            "|R16U59S8ZJGPLY|          5|           64|         64|   N|                Y|                1.0|\n",
            "|R233D4SD2MHUZG|          5|           20|         20|   N|                Y|                1.0|\n",
            "| RVDGV2G8PEUH2|          1|           13|         21|   N|                N| 0.6190476190476191|\n",
            "+--------------+-----------+-------------+-----------+----+-----------------+-------------------+\n",
            "only showing top 20 rows\n",
            "\n"
          ]
        }
      ]
    },
    {
      "cell_type": "code",
      "source": [
        "non_vine_votes_df.count()"
      ],
      "metadata": {
        "colab": {
          "base_uri": "https://localhost:8080/"
        },
        "id": "rSMFcGtCAyWC",
        "outputId": "b2374987-21bf-4168-c815-71f5a20728b5"
      },
      "execution_count": 14,
      "outputs": [
        {
          "output_type": "execute_result",
          "data": {
            "text/plain": [
              "38829"
            ]
          },
          "metadata": {},
          "execution_count": 14
        }
      ]
    },
    {
      "cell_type": "code",
      "source": [
        "non_vine_5_star = non_vine_votes_df.filter(non_vine_votes_df.star_rating == 5)\n",
        "non_vine_5_star.show()"
      ],
      "metadata": {
        "colab": {
          "base_uri": "https://localhost:8080/"
        },
        "id": "PlCGsTgTAyfc",
        "outputId": "adc76d8b-252a-4f9f-c638-43b294b28be4"
      },
      "execution_count": 15,
      "outputs": [
        {
          "output_type": "stream",
          "name": "stdout",
          "text": [
            "+--------------+-----------+-------------+-----------+----+-----------------+-------------------+\n",
            "|     review_id|star_rating|helpful_votes|total_votes|vine|verified_purchase|Helpful_Total_Votes|\n",
            "+--------------+-----------+-------------+-----------+----+-----------------+-------------------+\n",
            "|R1OA24IIHWF54G|          5|           43|         45|   N|                Y| 0.9555555555555556|\n",
            "|R1W8778CBXSRU6|          5|           28|         29|   N|                Y| 0.9655172413793104|\n",
            "|R2QYLQEK9UAJQ6|          5|           33|         34|   N|                Y| 0.9705882352941176|\n",
            "|R2U8FRHRVW5D2C|          5|           23|         23|   N|                N|                1.0|\n",
            "|R2KBV3A9X53ULG|          5|           39|         45|   N|                Y| 0.8666666666666667|\n",
            "|R18XX6GVZ41CY1|          5|           21|         22|   N|                N| 0.9545454545454546|\n",
            "|R3V8NHJWQWOU7S|          5|           27|         27|   N|                Y|                1.0|\n",
            "|R16U59S8ZJGPLY|          5|           64|         64|   N|                Y|                1.0|\n",
            "|R233D4SD2MHUZG|          5|           20|         20|   N|                Y|                1.0|\n",
            "|R3V9VFI77AVKRN|          5|           30|         32|   N|                Y|             0.9375|\n",
            "| REXYRV9DMU1MF|          5|           18|         20|   N|                Y|                0.9|\n",
            "| RUX53ITU3O0H6|          5|           91|         93|   N|                Y|  0.978494623655914|\n",
            "|R2B8CIV5SUL9DJ|          5|           36|         37|   N|                Y|  0.972972972972973|\n",
            "|R2738J6IFUH9P0|          5|           27|         30|   N|                Y|                0.9|\n",
            "| RGOZGBOCG0H1B|          5|           50|         54|   N|                N| 0.9259259259259259|\n",
            "| RQZU47N1C7R9U|          5|           21|         22|   N|                Y| 0.9545454545454546|\n",
            "|R2F10XQ4LKB1QA|          5|           26|         26|   N|                Y|                1.0|\n",
            "| RXXQ7VW3R4W7N|          5|           18|         20|   N|                N|                0.9|\n",
            "|R1IP35MTO9Q4D6|          5|           21|         23|   N|                Y| 0.9130434782608695|\n",
            "|R3P81LTX3LPDR3|          5|           26|         28|   N|                Y| 0.9285714285714286|\n",
            "+--------------+-----------+-------------+-----------+----+-----------------+-------------------+\n",
            "only showing top 20 rows\n",
            "\n"
          ]
        }
      ]
    },
    {
      "cell_type": "code",
      "source": [
        "non_vine_5_star.count()"
      ],
      "metadata": {
        "colab": {
          "base_uri": "https://localhost:8080/"
        },
        "id": "rIFn9vNIBPBo",
        "outputId": "18a291b3-2c13-4eb9-e4d2-1f2055446abc"
      },
      "execution_count": 16,
      "outputs": [
        {
          "output_type": "execute_result",
          "data": {
            "text/plain": [
              "18246"
            ]
          },
          "metadata": {},
          "execution_count": 16
        }
      ]
    },
    {
      "cell_type": "code",
      "source": [
        "(non_vine_5_star.count()/ non_vine_votes_df.count())*100"
      ],
      "metadata": {
        "colab": {
          "base_uri": "https://localhost:8080/"
        },
        "id": "ycTzybNmAyp1",
        "outputId": "507622da-b565-49de-f8ea-8c7708a4dc19"
      },
      "execution_count": 17,
      "outputs": [
        {
          "output_type": "execute_result",
          "data": {
            "text/plain": [
              "46.99065131731438"
            ]
          },
          "metadata": {},
          "execution_count": 17
        }
      ]
    }
  ]
}