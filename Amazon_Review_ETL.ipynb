{
  "nbformat": 4,
  "nbformat_minor": 0,
  "metadata": {
    "colab": {
      "name": "Amazon_Review_ETL.ipynb",
      "provenance": []
    },
    "kernelspec": {
      "name": "python3",
      "display_name": "Python 3"
    },
    "nteract": {
      "version": "0.12.3"
    },
    "language_info": {
      "name": "python"
    }
  },
  "cells": [
    {
      "cell_type": "code",
      "metadata": {
        "id": "V58rxea0HqSa",
        "colab": {
          "base_uri": "https://localhost:8080/"
        },
        "outputId": "cb48e42c-4cb1-4520-ab97-c12bc766e607"
      },
      "source": [
        "import os\n",
        "# Find the latest version of spark 3.0 from http://www.apache.org/dist/spark/ and enter as the spark version\n",
        "# For example:\n",
        "# spark_version = 'spark-3.0.3'\n",
        "spark_version = 'spark-3.2.1'\n",
        "os.environ['SPARK_VERSION']=spark_version\n",
        "\n",
        "# Install Spark and Java\n",
        "!apt-get update\n",
        "!apt-get install openjdk-11-jdk-headless -qq > /dev/null\n",
        "!wget -q http://www.apache.org/dist/spark/$SPARK_VERSION/$SPARK_VERSION-bin-hadoop2.7.tgz\n",
        "!tar xf $SPARK_VERSION-bin-hadoop2.7.tgz\n",
        "!pip install -q findspark\n",
        "\n",
        "# Set Environment Variables\n",
        "import os\n",
        "os.environ[\"JAVA_HOME\"] = \"/usr/lib/jvm/java-11-openjdk-amd64\"\n",
        "os.environ[\"SPARK_HOME\"] = f\"/content/{spark_version}-bin-hadoop2.7\"\n",
        "\n",
        "# Start a SparkSession\n",
        "import findspark\n",
        "findspark.init()"
      ],
      "execution_count": 3,
      "outputs": [
        {
          "output_type": "stream",
          "name": "stdout",
          "text": [
            "\r0% [Working]\r            \rHit:1 http://archive.ubuntu.com/ubuntu bionic InRelease\n",
            "\r0% [Waiting for headers] [Waiting for headers] [Waiting for headers] [Connectin\r                                                                               \rGet:2 http://security.ubuntu.com/ubuntu bionic-security InRelease [88.7 kB]\n",
            "\r                                                                               \rGet:3 https://cloud.r-project.org/bin/linux/ubuntu bionic-cran40/ InRelease [3,626 B]\n",
            "\r0% [Waiting for headers] [2 InRelease 14.2 kB/88.7 kB 16%] [Connecting to ppa.l\r0% [1 InRelease gpgv 242 kB] [Waiting for headers] [2 InRelease 14.2 kB/88.7 kB\r                                                                               \rGet:4 http://archive.ubuntu.com/ubuntu bionic-updates InRelease [88.7 kB]\n",
            "Ign:5 https://developer.download.nvidia.com/compute/cuda/repos/ubuntu1804/x86_64  InRelease\n",
            "Ign:6 https://developer.download.nvidia.com/compute/machine-learning/repos/ubuntu1804/x86_64  InRelease\n",
            "Get:7 https://developer.download.nvidia.com/compute/cuda/repos/ubuntu1804/x86_64  Release [696 B]\n",
            "Get:8 http://ppa.launchpad.net/c2d4u.team/c2d4u4.0+/ubuntu bionic InRelease [15.9 kB]\n",
            "Hit:9 https://developer.download.nvidia.com/compute/machine-learning/repos/ubuntu1804/x86_64  Release\n",
            "Get:10 https://developer.download.nvidia.com/compute/cuda/repos/ubuntu1804/x86_64  Release.gpg [836 B]\n",
            "Get:11 http://archive.ubuntu.com/ubuntu bionic-backports InRelease [74.6 kB]\n",
            "Hit:12 http://ppa.launchpad.net/cran/libgit2/ubuntu bionic InRelease\n",
            "Get:13 http://ppa.launchpad.net/deadsnakes/ppa/ubuntu bionic InRelease [15.9 kB]\n",
            "Get:14 http://security.ubuntu.com/ubuntu bionic-security/universe amd64 Packages [1,490 kB]\n",
            "Hit:15 http://ppa.launchpad.net/graphics-drivers/ppa/ubuntu bionic InRelease\n",
            "Get:16 http://security.ubuntu.com/ubuntu bionic-security/main amd64 Packages [2,695 kB]\n",
            "Get:17 http://archive.ubuntu.com/ubuntu bionic-updates/main amd64 Packages [3,134 kB]\n",
            "Get:18 http://archive.ubuntu.com/ubuntu bionic-updates/universe amd64 Packages [2,268 kB]\n",
            "Get:20 https://developer.download.nvidia.com/compute/cuda/repos/ubuntu1804/x86_64  Packages [953 kB]\n",
            "Get:21 http://ppa.launchpad.net/c2d4u.team/c2d4u4.0+/ubuntu bionic/main Sources [1,947 kB]\n",
            "Get:22 http://ppa.launchpad.net/c2d4u.team/c2d4u4.0+/ubuntu bionic/main amd64 Packages [996 kB]\n",
            "Get:23 http://ppa.launchpad.net/deadsnakes/ppa/ubuntu bionic/main amd64 Packages [45.3 kB]\n",
            "Fetched 13.8 MB in 5s (2,835 kB/s)\n",
            "Reading package lists... Done\n"
          ]
        }
      ]
    },
    {
      "cell_type": "code",
      "metadata": {
        "id": "_xKwTpATHqSe",
        "colab": {
          "base_uri": "https://localhost:8080/"
        },
        "outputId": "e88595d1-da47-4e40-ef25-3a01cc9b0535"
      },
      "source": [
        "# Download the Postgres driver that will allow Spark to interact with Postgres.\n",
        "!wget https://jdbc.postgresql.org/download/postgresql-42.2.16.jar"
      ],
      "execution_count": 4,
      "outputs": [
        {
          "output_type": "stream",
          "name": "stdout",
          "text": [
            "--2022-04-17 14:43:01--  https://jdbc.postgresql.org/download/postgresql-42.2.16.jar\n",
            "Resolving jdbc.postgresql.org (jdbc.postgresql.org)... 72.32.157.228, 2001:4800:3e1:1::228\n",
            "Connecting to jdbc.postgresql.org (jdbc.postgresql.org)|72.32.157.228|:443... connected.\n",
            "HTTP request sent, awaiting response... 200 OK\n",
            "Length: 1002883 (979K) [application/java-archive]\n",
            "Saving to: ‘postgresql-42.2.16.jar’\n",
            "\n",
            "postgresql-42.2.16. 100%[===================>] 979.38K  --.-KB/s    in 0.08s   \n",
            "\n",
            "2022-04-17 14:43:01 (11.4 MB/s) - ‘postgresql-42.2.16.jar’ saved [1002883/1002883]\n",
            "\n"
          ]
        }
      ]
    },
    {
      "cell_type": "code",
      "metadata": {
        "id": "MMqDAjVS0KN9"
      },
      "source": [
        "from pyspark.sql import SparkSession\n",
        "spark = SparkSession.builder.appName(\"M16-Amazon-Challenge\").config(\"spark.driver.extraClassPath\",\"/content/postgresql-42.2.16.jar\").getOrCreate()"
      ],
      "execution_count": 5,
      "outputs": []
    },
    {
      "cell_type": "markdown",
      "metadata": {
        "id": "cyBsySGuY-9V"
      },
      "source": [
        "### Load Amazon Data into Spark DataFrame"
      ]
    },
    {
      "cell_type": "code",
      "metadata": {
        "id": "CtCmBhQJY-9Z",
        "colab": {
          "base_uri": "https://localhost:8080/"
        },
        "outputId": "5d729e41-eec0-45b1-f23f-1a70caf54dfc"
      },
      "source": [
        "from pyspark import SparkFiles\n",
        "url = \"https://s3.amazonaws.com/amazon-reviews-pds/tsv/amazon_reviews_us_Home_Improvement_v1_00.tsv.gz\"\n",
        "spark.sparkContext.addFile(url)\n",
        "df = spark.read.option(\"encoding\", \"UTF-8\").csv(SparkFiles.get(\"\"), sep=\"\\t\", header=True, inferSchema=True)\n",
        "df.show()"
      ],
      "execution_count": 6,
      "outputs": [
        {
          "output_type": "stream",
          "name": "stdout",
          "text": [
            "+-----------+-----------+--------------+----------+--------------+--------------------+----------------+-----------+-------------+-----------+----+-----------------+--------------------+--------------------+-----------+\n",
            "|marketplace|customer_id|     review_id|product_id|product_parent|       product_title|product_category|star_rating|helpful_votes|total_votes|vine|verified_purchase|     review_headline|         review_body|review_date|\n",
            "+-----------+-----------+--------------+----------+--------------+--------------------+----------------+-----------+-------------+-----------+----+-----------------+--------------------+--------------------+-----------+\n",
            "|         US|   48881148|R215C9BDXTDQOW|B00FR4YQYK|     381800308|SadoTech Model C ...|Home Improvement|          4|            0|          0|   N|                Y|          Four Stars|        good product| 2015-08-31|\n",
            "|         US|   47882936|R1DTPUV1J57YHA|B00439MYYE|     921341748|iSpring T32M 3.2 ...|Home Improvement|          5|            0|          0|   N|                Y|Good price, quick...|Good price, quick...| 2015-08-31|\n",
            "|         US|   44435471| RFAZK5EWKJWOU|B00002N762|      56053291|Schlage F10CS V E...|Home Improvement|          5|            0|          0|   N|                Y|          Five Stars|       Excellent...!| 2015-08-31|\n",
            "|         US|   28377689|R2XT8X0O0WS1AL|B000QFCP1G|     595928517|Citri-Strip QCG73...|Home Improvement|          5|            0|          0|   N|                Y|Although *slightl...|Although *slightl...| 2015-08-31|\n",
            "|         US|   50134766|R14GRNANKO2Y2J|B00WRCRKOI|     417053744|SleekLighting Bul...|Home Improvement|          5|            0|          0|   N|                Y|      Great Adapters|These adapters ar...| 2015-08-31|\n",
            "|         US|   14066511|R2BLF9VYL24LCQ|B00NIH88EW|     275395071|VDOMUS&reg;Exquis...|Home Improvement|          5|            1|          1|   N|                Y|                nice|awesome and great...| 2015-08-31|\n",
            "|         US|   15211046|R1GI9UW5KJ671O|B005B9CI96|     856617815|Frigidaire 316075...|Home Improvement|          5|            0|          0|   N|                Y|          Five Stars|Perfect. Exactly ...| 2015-08-31|\n",
            "|         US|   14862498|R2H5CEJN863M86|B008L0OMWI|     125102494|Anyray® 5-Bulbs 7...|Home Improvement|          5|            0|          1|   N|                Y|So far working gr...|So far working gr...| 2015-08-31|\n",
            "|         US|   23617292| R5PPDHFOZ3SMU|B00P9FTC6O|     523110842|Cambridge 100 pcs...|Home Improvement|          5|            0|          0|   N|                Y|           Ties tie.|Not much to say a...| 2015-08-31|\n",
            "|         US|   35820485| RE1L9IENKJJ7Y|B00K6BQEHQ|     797306964|EUBUY Silver Tone...|Home Improvement|          1|            0|          0|   N|                Y|             GARBAGE|       crap quality.| 2015-08-31|\n",
            "|         US|   47162350|R3CZ0990QC2Z0H|B008BYQCWM|     865874404|Legend 809125 Leg...|Home Improvement|          5|            0|          0|   N|                Y|          Five Stars|  Good. As expected.| 2015-08-31|\n",
            "|         US|   31884789|R3UMMD2IO29QSP|B003BLHTOU|     183592595|Forearm Forklift ...|Home Improvement|          5|            0|          0|   N|                Y|           It works!|My husband and I ...| 2015-08-31|\n",
            "|         US|   43835770| R541LE5J3OJH2|B0065I114K|     185006358|Newer Technology ...|Home Improvement|          5|            0|          0|   N|                Y|          Five Stars|     works perfectly| 2015-08-31|\n",
            "|         US|   26212294|R10KD9FIE6Y1AS|B00J9XB6BQ|      53423207|Rok Hardware 25 P...|Home Improvement|          5|            0|          0|   N|                Y|Banging cabinet d...|Banging cabinet d...| 2015-08-31|\n",
            "|         US|   17876704|R1YT5YG0QG5DCG|B00K36NJ0E|     593464633|Drift Light Using...|Home Improvement|          5|            0|          0|   N|                Y|Great product for...|Great product for...| 2015-08-31|\n",
            "|         US|   22813225|R207LXJWL40V1S|B000ZIEOHW|     833911812|Troy DPH11 Profes...|Home Improvement|          4|            0|          0|   N|                Y|GETTING THE JOB D...|Drywalling our 18...| 2015-08-31|\n",
            "|         US|   25448576| RIDP0ZD7WT9DE|B0009YDHKC|     852173443|Wright Products V...|Home Improvement|          5|            0|          0|   N|                Y|          Five Stars|exact replacement...| 2015-08-31|\n",
            "|         US|   19754503|R2XJSNZ9219U1Z|B00LBGVLS2|     929968058|LiftMaster Garage...|Home Improvement|          5|            0|          0|   N|                Y|Easy to program g...|Works as advertis...| 2015-08-31|\n",
            "|         US|   17767084|R2M9F1FVVDOGFL|B00002N5DY|     830214712|Heath Zenith SL-5...|Home Improvement|          5|            0|          0|   N|                Y|     easy to install|Working well the ...| 2015-08-31|\n",
            "|         US|   48001709|R1QTOSE2BHU2LJ|B000BQOX88|     498022954|Intermatic T101 2...|Home Improvement|          3|            1|          2|   N|                Y|Kind of disappoin...|I connected the r...| 2015-08-31|\n",
            "+-----------+-----------+--------------+----------+--------------+--------------------+----------------+-----------+-------------+-----------+----+-----------------+--------------------+--------------------+-----------+\n",
            "only showing top 20 rows\n",
            "\n"
          ]
        }
      ]
    },
    {
      "cell_type": "markdown",
      "metadata": {
        "id": "2yUSe55VY-9t"
      },
      "source": [
        "### Create DataFrames to match tables"
      ]
    },
    {
      "cell_type": "code",
      "metadata": {
        "id": "C8REmY1aY-9u"
      },
      "source": [
        "from pyspark.sql.functions import to_date\n",
        "# Read in the Review dataset as a DataFrame\n"
      ],
      "execution_count": 7,
      "outputs": []
    },
    {
      "cell_type": "code",
      "metadata": {
        "id": "B0TESUDRY-90",
        "colab": {
          "base_uri": "https://localhost:8080/"
        },
        "outputId": "462d8a6b-dcb6-4d7c-e483-a631604efe30"
      },
      "source": [
        "# Create the customers_table DataFrame\n",
        "customers_df = df.groupby(\"customer_id\").agg({\"customer_id\":\"count\"}).withColumnRenamed(\"count(customer_id)\", \"customer_count\")\n",
        "customers_df.show()"
      ],
      "execution_count": 8,
      "outputs": [
        {
          "output_type": "stream",
          "name": "stdout",
          "text": [
            "+-----------+--------------+\n",
            "|customer_id|customer_count|\n",
            "+-----------+--------------+\n",
            "|   28377689|             1|\n",
            "|   28258386|             2|\n",
            "|    9967574|             1|\n",
            "|   25153155|             1|\n",
            "|   10088068|             1|\n",
            "|   45657423|             1|\n",
            "|   19021463|             1|\n",
            "|   41413793|             2|\n",
            "|   43789873|             2|\n",
            "|   12406466|             1|\n",
            "|   41045019|             1|\n",
            "|   35535911|             2|\n",
            "|   47108763|             1|\n",
            "|   48113150|             1|\n",
            "|   18201417|             9|\n",
            "|   26079415|             3|\n",
            "|   36114891|             7|\n",
            "|    3712628|             1|\n",
            "|   37499901|             2|\n",
            "|   47321438|             2|\n",
            "+-----------+--------------+\n",
            "only showing top 20 rows\n",
            "\n"
          ]
        }
      ]
    },
    {
      "cell_type": "code",
      "metadata": {
        "id": "4FwXA6UvY-96",
        "colab": {
          "base_uri": "https://localhost:8080/"
        },
        "outputId": "4bbc1b0a-35e7-4492-c5ab-645d9eb8b7f9"
      },
      "source": [
        "# Create the products_table DataFrame and drop duplicates. \n",
        "products_df = df.select(['product_id', 'product_title']).drop_duplicates(['product_id'])\n",
        "products_df.show()"
      ],
      "execution_count": 9,
      "outputs": [
        {
          "output_type": "stream",
          "name": "stdout",
          "text": [
            "+----------+--------------------+\n",
            "|product_id|       product_title|\n",
            "+----------+--------------------+\n",
            "|0538603879|   Mr. Happy Incense|\n",
            "|0963469142|         Five Crowns|\n",
            "|0983124221|SioGreen iR Tankless|\n",
            "|100100003X|MAGCREDIBLE® Magn...|\n",
            "|104800001X|MAGCREDIBLE® Magn...|\n",
            "|1094780162|Men Automatic U1 ...|\n",
            "|139475891X|Stylish Triple Ti...|\n",
            "|140050337X|50 Super Hook Wal...|\n",
            "|140755736X|RotoStyler Rotati...|\n",
            "|142391550X|Renata Battery 39...|\n",
            "|1450848214|Westinghouse 3 ou...|\n",
            "|148796174X|Vogue Goddess Sil...|\n",
            "|157223217X|Just Labs:  Half-...|\n",
            "|1590651677|Pantone Plus Seri...|\n",
            "|1590651707|Pantone Plus Seri...|\n",
            "|1590651715|Pantone Plus Seri...|\n",
            "|1590651804|Pantone Plus Seri...|\n",
            "|159065322X|PANTONE GG1504 Pl...|\n",
            "|1590653254|PANTONE GG1511 Pl...|\n",
            "|1590653289|PANTONE GP1501 Pl...|\n",
            "+----------+--------------------+\n",
            "only showing top 20 rows\n",
            "\n"
          ]
        }
      ]
    },
    {
      "cell_type": "code",
      "metadata": {
        "id": "MkqyCuNQY-9-",
        "colab": {
          "base_uri": "https://localhost:8080/"
        },
        "outputId": "cbe77bb2-5a71-412f-a734-b5bd0ade1ac5"
      },
      "source": [
        "# Create the review_id_table DataFrame. \n",
        "# Convert the 'review_date' column to a date datatype with to_date(\"review_date\", 'yyyy-MM-dd').alias(\"review_date\")\n",
        "review_id_df = df.select(['review_id', 'customer_id', 'product_id', 'product_parent', to_date(\"review_date\", 'yyyy-MM-dd').alias(\"review_date\")])\n",
        "review_id_df.show()"
      ],
      "execution_count": 10,
      "outputs": [
        {
          "output_type": "stream",
          "name": "stdout",
          "text": [
            "+--------------+-----------+----------+--------------+-----------+\n",
            "|     review_id|customer_id|product_id|product_parent|review_date|\n",
            "+--------------+-----------+----------+--------------+-----------+\n",
            "|R215C9BDXTDQOW|   48881148|B00FR4YQYK|     381800308| 2015-08-31|\n",
            "|R1DTPUV1J57YHA|   47882936|B00439MYYE|     921341748| 2015-08-31|\n",
            "| RFAZK5EWKJWOU|   44435471|B00002N762|      56053291| 2015-08-31|\n",
            "|R2XT8X0O0WS1AL|   28377689|B000QFCP1G|     595928517| 2015-08-31|\n",
            "|R14GRNANKO2Y2J|   50134766|B00WRCRKOI|     417053744| 2015-08-31|\n",
            "|R2BLF9VYL24LCQ|   14066511|B00NIH88EW|     275395071| 2015-08-31|\n",
            "|R1GI9UW5KJ671O|   15211046|B005B9CI96|     856617815| 2015-08-31|\n",
            "|R2H5CEJN863M86|   14862498|B008L0OMWI|     125102494| 2015-08-31|\n",
            "| R5PPDHFOZ3SMU|   23617292|B00P9FTC6O|     523110842| 2015-08-31|\n",
            "| RE1L9IENKJJ7Y|   35820485|B00K6BQEHQ|     797306964| 2015-08-31|\n",
            "|R3CZ0990QC2Z0H|   47162350|B008BYQCWM|     865874404| 2015-08-31|\n",
            "|R3UMMD2IO29QSP|   31884789|B003BLHTOU|     183592595| 2015-08-31|\n",
            "| R541LE5J3OJH2|   43835770|B0065I114K|     185006358| 2015-08-31|\n",
            "|R10KD9FIE6Y1AS|   26212294|B00J9XB6BQ|      53423207| 2015-08-31|\n",
            "|R1YT5YG0QG5DCG|   17876704|B00K36NJ0E|     593464633| 2015-08-31|\n",
            "|R207LXJWL40V1S|   22813225|B000ZIEOHW|     833911812| 2015-08-31|\n",
            "| RIDP0ZD7WT9DE|   25448576|B0009YDHKC|     852173443| 2015-08-31|\n",
            "|R2XJSNZ9219U1Z|   19754503|B00LBGVLS2|     929968058| 2015-08-31|\n",
            "|R2M9F1FVVDOGFL|   17767084|B00002N5DY|     830214712| 2015-08-31|\n",
            "|R1QTOSE2BHU2LJ|   48001709|B000BQOX88|     498022954| 2015-08-31|\n",
            "+--------------+-----------+----------+--------------+-----------+\n",
            "only showing top 20 rows\n",
            "\n"
          ]
        }
      ]
    },
    {
      "cell_type": "code",
      "metadata": {
        "id": "lzMmkdKmY--D",
        "colab": {
          "base_uri": "https://localhost:8080/"
        },
        "outputId": "7423114f-2cd7-4ece-96b0-39f873a13d26"
      },
      "source": [
        "# Create the vine_table. DataFrame\n",
        "vine_df = df.select(['review_id', 'star_rating', 'helpful_votes', 'total_votes', 'vine', 'verified_purchase'])\n",
        "vine_df.show()"
      ],
      "execution_count": 11,
      "outputs": [
        {
          "output_type": "stream",
          "name": "stdout",
          "text": [
            "+--------------+-----------+-------------+-----------+----+-----------------+\n",
            "|     review_id|star_rating|helpful_votes|total_votes|vine|verified_purchase|\n",
            "+--------------+-----------+-------------+-----------+----+-----------------+\n",
            "|R215C9BDXTDQOW|          4|            0|          0|   N|                Y|\n",
            "|R1DTPUV1J57YHA|          5|            0|          0|   N|                Y|\n",
            "| RFAZK5EWKJWOU|          5|            0|          0|   N|                Y|\n",
            "|R2XT8X0O0WS1AL|          5|            0|          0|   N|                Y|\n",
            "|R14GRNANKO2Y2J|          5|            0|          0|   N|                Y|\n",
            "|R2BLF9VYL24LCQ|          5|            1|          1|   N|                Y|\n",
            "|R1GI9UW5KJ671O|          5|            0|          0|   N|                Y|\n",
            "|R2H5CEJN863M86|          5|            0|          1|   N|                Y|\n",
            "| R5PPDHFOZ3SMU|          5|            0|          0|   N|                Y|\n",
            "| RE1L9IENKJJ7Y|          1|            0|          0|   N|                Y|\n",
            "|R3CZ0990QC2Z0H|          5|            0|          0|   N|                Y|\n",
            "|R3UMMD2IO29QSP|          5|            0|          0|   N|                Y|\n",
            "| R541LE5J3OJH2|          5|            0|          0|   N|                Y|\n",
            "|R10KD9FIE6Y1AS|          5|            0|          0|   N|                Y|\n",
            "|R1YT5YG0QG5DCG|          5|            0|          0|   N|                Y|\n",
            "|R207LXJWL40V1S|          4|            0|          0|   N|                Y|\n",
            "| RIDP0ZD7WT9DE|          5|            0|          0|   N|                Y|\n",
            "|R2XJSNZ9219U1Z|          5|            0|          0|   N|                Y|\n",
            "|R2M9F1FVVDOGFL|          5|            0|          0|   N|                Y|\n",
            "|R1QTOSE2BHU2LJ|          3|            1|          2|   N|                Y|\n",
            "+--------------+-----------+-------------+-----------+----+-----------------+\n",
            "only showing top 20 rows\n",
            "\n"
          ]
        }
      ]
    },
    {
      "cell_type": "markdown",
      "metadata": {
        "id": "jITZhLkmY--J"
      },
      "source": [
        "### Connect to the AWS RDS instance and write each DataFrame to its table. "
      ]
    },
    {
      "cell_type": "code",
      "metadata": {
        "id": "7jiUvs1aY--L",
        "colab": {
          "base_uri": "https://localhost:8080/"
        },
        "outputId": "ee54cf18-5598-4377-930b-ff740fe45bd0"
      },
      "source": [
        "# Store environmental variable\n",
        "from getpass import getpass\n",
        "password = getpass('Enter database password')\n",
        "\n",
        "# Configure settings for RDS\n",
        "mode = \"append\"\n",
        "jdbc_url=\"jdbc:postgresql://mod16challenge.cov3o2zuhbsx.us-east-2.rds.amazonaws.com:5432/Mod16Challenge\"\n",
        "config = {\"user\":\"postgres\", \n",
        "          \"password\": password, \n",
        "          \"driver\":\"org.postgresql.Driver\"}"
      ],
      "execution_count": null,
      "outputs": [
        {
          "name": "stdout",
          "output_type": "stream",
          "text": [
            "Enter database password··········\n"
          ]
        }
      ]
    },
    {
      "cell_type": "code",
      "metadata": {
        "id": "T2zgZ-aKY--Q"
      },
      "source": [
        "# Write review_id_df to table in RDS\n",
        "review_id_df.write.jdbc(url=jdbc_url, table='review_id_table', mode=mode, properties=config)"
      ],
      "execution_count": null,
      "outputs": []
    },
    {
      "cell_type": "code",
      "metadata": {
        "id": "1m3yzn-LY--U"
      },
      "source": [
        "# Write products_df to table in RDS\n",
        "# about 3 min\n",
        "products_df.write.jdbc(url=jdbc_url, table='products_table', mode=mode, properties=config)"
      ],
      "execution_count": null,
      "outputs": []
    },
    {
      "cell_type": "code",
      "metadata": {
        "id": "KbXri15fY--Z"
      },
      "source": [
        "# Write customers_df to table in RDS\n",
        "# 5 min 14 s\n",
        "customers_df.write.jdbc(url=jdbc_url, table='customers_table', mode=mode, properties=config)"
      ],
      "execution_count": null,
      "outputs": []
    },
    {
      "cell_type": "code",
      "metadata": {
        "id": "XdQknSHLY--e"
      },
      "source": [
        "# Write vine_df to table in RDS\n",
        "# 11 minutes\n",
        "vine_df.write.jdbc(url=jdbc_url, table='vine_table', mode=mode, properties=config)"
      ],
      "execution_count": null,
      "outputs": []
    },
    {
      "cell_type": "code",
      "metadata": {
        "id": "Exuo6ebUsCqW"
      },
      "source": [
        ""
      ],
      "execution_count": null,
      "outputs": []
    },
    {
      "cell_type": "markdown",
      "source": [
        "DELIVERABLE 2"
      ],
      "metadata": {
        "id": "bB1GxMSkEUIm"
      }
    },
    {
      "cell_type": "code",
      "source": [
        "filtered_vine_df = vine_df.filter(vine_df.total_votes>19)\n",
        "filtered_vine_df.show()"
      ],
      "metadata": {
        "id": "IYfBlD_REYlm",
        "colab": {
          "base_uri": "https://localhost:8080/"
        },
        "outputId": "ca71a7b5-442a-42a5-e010-955ccb8f8b4e"
      },
      "execution_count": 12,
      "outputs": [
        {
          "output_type": "stream",
          "name": "stdout",
          "text": [
            "+--------------+-----------+-------------+-----------+----+-----------------+\n",
            "|     review_id|star_rating|helpful_votes|total_votes|vine|verified_purchase|\n",
            "+--------------+-----------+-------------+-----------+----+-----------------+\n",
            "|R2VIQ3UX794Q0O|          4|           21|         21|   N|                Y|\n",
            "|R1OA24IIHWF54G|          5|           43|         45|   N|                Y|\n",
            "| RJ7N3OOJR9RL0|          4|           63|         71|   N|                Y|\n",
            "|R1W8778CBXSRU6|          5|           28|         29|   N|                Y|\n",
            "|R2EFAM03SWLIJX|          1|           32|         35|   N|                Y|\n",
            "|R3F8P56ZDJ6PI8|          4|          106|        115|   N|                Y|\n",
            "|R2QYLQEK9UAJQ6|          5|           33|         34|   N|                Y|\n",
            "| RQCC7XNYI014B|          1|           91|         92|   N|                Y|\n",
            "|R2U8FRHRVW5D2C|          5|           23|         23|   N|                N|\n",
            "|R3RJZC5J4VP7AT|          4|           86|         91|   N|                N|\n",
            "|R2KBV3A9X53ULG|          5|           39|         45|   N|                Y|\n",
            "|R18XX6GVZ41CY1|          5|           21|         22|   N|                N|\n",
            "|R3V8NHJWQWOU7S|          5|           27|         27|   N|                Y|\n",
            "|R25FJV7A58YHEM|          1|           19|         22|   N|                Y|\n",
            "|R285Z02CQJJ36C|          3|           45|         48|   N|                Y|\n",
            "| R5UJCOLQBEADG|          1|           31|         35|   N|                Y|\n",
            "|R1KEUH7SZ9BIRK|          1|           20|         20|   N|                Y|\n",
            "|R16U59S8ZJGPLY|          5|           64|         64|   N|                Y|\n",
            "|R233D4SD2MHUZG|          5|           20|         20|   N|                Y|\n",
            "| RVDGV2G8PEUH2|          1|           13|         21|   N|                N|\n",
            "+--------------+-----------+-------------+-----------+----+-----------------+\n",
            "only showing top 20 rows\n",
            "\n"
          ]
        }
      ]
    },
    {
      "cell_type": "code",
      "source": [
        "helpful_votes_df = filtered_vine_df.withColumn('Helpful_Total_Votes',filtered_vine_df['helpful_votes']/filtered_vine_df['total_votes']).filter(('Helpful_Total_Votes>=.5') )\n",
        "helpful_votes_df.show()"
      ],
      "metadata": {
        "colab": {
          "base_uri": "https://localhost:8080/"
        },
        "id": "RxF4IXYgF5Mu",
        "outputId": "124d4364-b3f5-4a91-dd2a-5f275080a8cc"
      },
      "execution_count": 13,
      "outputs": [
        {
          "output_type": "stream",
          "name": "stdout",
          "text": [
            "+--------------+-----------+-------------+-----------+----+-----------------+-------------------+\n",
            "|     review_id|star_rating|helpful_votes|total_votes|vine|verified_purchase|Helpful_Total_Votes|\n",
            "+--------------+-----------+-------------+-----------+----+-----------------+-------------------+\n",
            "|R2VIQ3UX794Q0O|          4|           21|         21|   N|                Y|                1.0|\n",
            "|R1OA24IIHWF54G|          5|           43|         45|   N|                Y| 0.9555555555555556|\n",
            "| RJ7N3OOJR9RL0|          4|           63|         71|   N|                Y| 0.8873239436619719|\n",
            "|R1W8778CBXSRU6|          5|           28|         29|   N|                Y| 0.9655172413793104|\n",
            "|R2EFAM03SWLIJX|          1|           32|         35|   N|                Y| 0.9142857142857143|\n",
            "|R3F8P56ZDJ6PI8|          4|          106|        115|   N|                Y| 0.9217391304347826|\n",
            "|R2QYLQEK9UAJQ6|          5|           33|         34|   N|                Y| 0.9705882352941176|\n",
            "| RQCC7XNYI014B|          1|           91|         92|   N|                Y| 0.9891304347826086|\n",
            "|R2U8FRHRVW5D2C|          5|           23|         23|   N|                N|                1.0|\n",
            "|R3RJZC5J4VP7AT|          4|           86|         91|   N|                N|  0.945054945054945|\n",
            "|R2KBV3A9X53ULG|          5|           39|         45|   N|                Y| 0.8666666666666667|\n",
            "|R18XX6GVZ41CY1|          5|           21|         22|   N|                N| 0.9545454545454546|\n",
            "|R3V8NHJWQWOU7S|          5|           27|         27|   N|                Y|                1.0|\n",
            "|R25FJV7A58YHEM|          1|           19|         22|   N|                Y| 0.8636363636363636|\n",
            "|R285Z02CQJJ36C|          3|           45|         48|   N|                Y|             0.9375|\n",
            "| R5UJCOLQBEADG|          1|           31|         35|   N|                Y| 0.8857142857142857|\n",
            "|R1KEUH7SZ9BIRK|          1|           20|         20|   N|                Y|                1.0|\n",
            "|R16U59S8ZJGPLY|          5|           64|         64|   N|                Y|                1.0|\n",
            "|R233D4SD2MHUZG|          5|           20|         20|   N|                Y|                1.0|\n",
            "| RVDGV2G8PEUH2|          1|           13|         21|   N|                N| 0.6190476190476191|\n",
            "+--------------+-----------+-------------+-----------+----+-----------------+-------------------+\n",
            "only showing top 20 rows\n",
            "\n"
          ]
        }
      ]
    },
    {
      "cell_type": "code",
      "source": [
        "vine_votes_df = helpful_votes_df.filter(helpful_votes_df.vine == 'Y')\n",
        "vine_votes_df.show()"
      ],
      "metadata": {
        "colab": {
          "base_uri": "https://localhost:8080/"
        },
        "id": "KLGTiOyiK2p0",
        "outputId": "6f6b5a54-e482-4c05-c971-581834c2e2e1"
      },
      "execution_count": 14,
      "outputs": [
        {
          "output_type": "stream",
          "name": "stdout",
          "text": [
            "+--------------+-----------+-------------+-----------+----+-----------------+-------------------+\n",
            "|     review_id|star_rating|helpful_votes|total_votes|vine|verified_purchase|Helpful_Total_Votes|\n",
            "+--------------+-----------+-------------+-----------+----+-----------------+-------------------+\n",
            "|R29V4UDSS053D8|          3|           33|         38|   Y|                N|  0.868421052631579|\n",
            "|R1I2D068WC37PA|          3|           32|         37|   Y|                N| 0.8648648648648649|\n",
            "|R13W2U74F67QED|          5|           62|         76|   Y|                N| 0.8157894736842105|\n",
            "|R2QI37XFOBKUGD|          4|           24|         33|   Y|                N| 0.7272727272727273|\n",
            "|R19F60BB2DNCKN|          5|          170|        174|   Y|                N| 0.9770114942528736|\n",
            "|R2PYNEWYYQDWHI|          5|           24|         27|   Y|                N| 0.8888888888888888|\n",
            "|R1UEWHCPJL2XJB|          5|           70|         72|   Y|                N| 0.9722222222222222|\n",
            "| RXTMMEBRYZB53|          5|           21|         24|   Y|                N|              0.875|\n",
            "|R1PXVYIYMYGUZL|          5|           21|         26|   Y|                N| 0.8076923076923077|\n",
            "| RSFMJJXFZHX1C|          5|           24|         25|   Y|                N|               0.96|\n",
            "|R3AGOANU5B89WE|          4|           20|         21|   Y|                N| 0.9523809523809523|\n",
            "|R1Z849RVP83BSJ|          5|           21|         23|   Y|                N| 0.9130434782608695|\n",
            "|R2HQVKK2QW0EAT|          5|           20|         24|   Y|                N| 0.8333333333333334|\n",
            "|  RHSOAAAT5UVP|          5|           55|         56|   Y|                N| 0.9821428571428571|\n",
            "| RZXDK1RE3YQ97|          4|           18|         21|   Y|                N| 0.8571428571428571|\n",
            "|R2IQH4H2S5EROF|          5|           23|         24|   Y|                N| 0.9583333333333334|\n",
            "| R2BQ1FHU7OQPQ|          5|          212|        220|   Y|                N| 0.9636363636363636|\n",
            "| RH1A5XB16O3BM|          4|           28|         32|   Y|                N|              0.875|\n",
            "| R4MAE8LHKDZMG|          5|           36|         39|   Y|                Y| 0.9230769230769231|\n",
            "|R2QLNOOJ4J16D2|          3|          111|        118|   Y|                N|  0.940677966101695|\n",
            "+--------------+-----------+-------------+-----------+----+-----------------+-------------------+\n",
            "only showing top 20 rows\n",
            "\n"
          ]
        }
      ]
    },
    {
      "cell_type": "code",
      "source": [
        "vine_votes_df.count()"
      ],
      "metadata": {
        "id": "uqOv6SeYNx5V",
        "colab": {
          "base_uri": "https://localhost:8080/"
        },
        "outputId": "b074db98-76d0-4e64-fd56-af1c7aee4185"
      },
      "execution_count": 15,
      "outputs": [
        {
          "output_type": "execute_result",
          "data": {
            "text/plain": [
              "266"
            ]
          },
          "metadata": {},
          "execution_count": 15
        }
      ]
    },
    {
      "cell_type": "code",
      "source": [
        "vine_5_star = vine_votes_df.filter(vine_votes_df.star_rating == 5)\n",
        "vine_5_star.show()"
      ],
      "metadata": {
        "colab": {
          "base_uri": "https://localhost:8080/"
        },
        "id": "VdR-6Cm4_GCo",
        "outputId": "1b55919e-d009-43b4-d592-b31f31eaae21"
      },
      "execution_count": 18,
      "outputs": [
        {
          "output_type": "stream",
          "name": "stdout",
          "text": [
            "+--------------+-----------+-------------+-----------+----+-----------------+-------------------+\n",
            "|     review_id|star_rating|helpful_votes|total_votes|vine|verified_purchase|Helpful_Total_Votes|\n",
            "+--------------+-----------+-------------+-----------+----+-----------------+-------------------+\n",
            "|R13W2U74F67QED|          5|           62|         76|   Y|                N| 0.8157894736842105|\n",
            "|R19F60BB2DNCKN|          5|          170|        174|   Y|                N| 0.9770114942528736|\n",
            "|R2PYNEWYYQDWHI|          5|           24|         27|   Y|                N| 0.8888888888888888|\n",
            "|R1UEWHCPJL2XJB|          5|           70|         72|   Y|                N| 0.9722222222222222|\n",
            "| RXTMMEBRYZB53|          5|           21|         24|   Y|                N|              0.875|\n",
            "|R1PXVYIYMYGUZL|          5|           21|         26|   Y|                N| 0.8076923076923077|\n",
            "| RSFMJJXFZHX1C|          5|           24|         25|   Y|                N|               0.96|\n",
            "|R1Z849RVP83BSJ|          5|           21|         23|   Y|                N| 0.9130434782608695|\n",
            "|R2HQVKK2QW0EAT|          5|           20|         24|   Y|                N| 0.8333333333333334|\n",
            "|  RHSOAAAT5UVP|          5|           55|         56|   Y|                N| 0.9821428571428571|\n",
            "|R2IQH4H2S5EROF|          5|           23|         24|   Y|                N| 0.9583333333333334|\n",
            "| R2BQ1FHU7OQPQ|          5|          212|        220|   Y|                N| 0.9636363636363636|\n",
            "| R4MAE8LHKDZMG|          5|           36|         39|   Y|                Y| 0.9230769230769231|\n",
            "| RNEY81WQ79GEG|          5|           40|         42|   Y|                N| 0.9523809523809523|\n",
            "|R2ZMAYMCPJQNI2|          5|           33|         39|   Y|                N| 0.8461538461538461|\n",
            "| RWX30E8NG2N79|          5|           19|         20|   Y|                N|               0.95|\n",
            "|R20O6EBD4F4L3Q|          5|           25|         27|   Y|                N| 0.9259259259259259|\n",
            "|R1K37DH3NTUGSD|          5|           90|         92|   Y|                N| 0.9782608695652174|\n",
            "|R1CGJLOSQNH97D|          5|           30|         34|   Y|                N| 0.8823529411764706|\n",
            "|R2KNX9Q0PVXHW2|          5|           64|         67|   Y|                N| 0.9552238805970149|\n",
            "+--------------+-----------+-------------+-----------+----+-----------------+-------------------+\n",
            "only showing top 20 rows\n",
            "\n"
          ]
        }
      ]
    },
    {
      "cell_type": "code",
      "source": [
        "vine_5_star.count()"
      ],
      "metadata": {
        "colab": {
          "base_uri": "https://localhost:8080/"
        },
        "id": "Ynq-Bf1c_vyI",
        "outputId": "781592b8-3322-48f5-8cf8-e3fbfefeb902"
      },
      "execution_count": 20,
      "outputs": [
        {
          "output_type": "execute_result",
          "data": {
            "text/plain": [
              "125"
            ]
          },
          "metadata": {},
          "execution_count": 20
        }
      ]
    },
    {
      "cell_type": "code",
      "source": [
        "(vine_5_star.count()/ vine_votes_df.count())*100"
      ],
      "metadata": {
        "colab": {
          "base_uri": "https://localhost:8080/"
        },
        "id": "C72oh1e1_1Ss",
        "outputId": "c2549a1f-f0f9-4dd9-88e7-321f74fa5867"
      },
      "execution_count": 33,
      "outputs": [
        {
          "output_type": "execute_result",
          "data": {
            "text/plain": [
              "46.99248120300752"
            ]
          },
          "metadata": {},
          "execution_count": 33
        }
      ]
    },
    {
      "cell_type": "code",
      "source": [
        "non_vine_votes_df = helpful_votes_df.filter(helpful_votes_df.vine == 'N')\n",
        "non_vine_votes_df.show()"
      ],
      "metadata": {
        "colab": {
          "base_uri": "https://localhost:8080/"
        },
        "id": "ThHsm1_pNZJU",
        "outputId": "103e58b2-d51a-494f-d60e-e36ca397ff2a"
      },
      "execution_count": 28,
      "outputs": [
        {
          "output_type": "stream",
          "name": "stdout",
          "text": [
            "+--------------+-----------+-------------+-----------+----+-----------------+-------------------+\n",
            "|     review_id|star_rating|helpful_votes|total_votes|vine|verified_purchase|Helpful_Total_Votes|\n",
            "+--------------+-----------+-------------+-----------+----+-----------------+-------------------+\n",
            "|R2VIQ3UX794Q0O|          4|           21|         21|   N|                Y|                1.0|\n",
            "|R1OA24IIHWF54G|          5|           43|         45|   N|                Y| 0.9555555555555556|\n",
            "| RJ7N3OOJR9RL0|          4|           63|         71|   N|                Y| 0.8873239436619719|\n",
            "|R1W8778CBXSRU6|          5|           28|         29|   N|                Y| 0.9655172413793104|\n",
            "|R2EFAM03SWLIJX|          1|           32|         35|   N|                Y| 0.9142857142857143|\n",
            "|R3F8P56ZDJ6PI8|          4|          106|        115|   N|                Y| 0.9217391304347826|\n",
            "|R2QYLQEK9UAJQ6|          5|           33|         34|   N|                Y| 0.9705882352941176|\n",
            "| RQCC7XNYI014B|          1|           91|         92|   N|                Y| 0.9891304347826086|\n",
            "|R2U8FRHRVW5D2C|          5|           23|         23|   N|                N|                1.0|\n",
            "|R3RJZC5J4VP7AT|          4|           86|         91|   N|                N|  0.945054945054945|\n",
            "|R2KBV3A9X53ULG|          5|           39|         45|   N|                Y| 0.8666666666666667|\n",
            "|R18XX6GVZ41CY1|          5|           21|         22|   N|                N| 0.9545454545454546|\n",
            "|R3V8NHJWQWOU7S|          5|           27|         27|   N|                Y|                1.0|\n",
            "|R25FJV7A58YHEM|          1|           19|         22|   N|                Y| 0.8636363636363636|\n",
            "|R285Z02CQJJ36C|          3|           45|         48|   N|                Y|             0.9375|\n",
            "| R5UJCOLQBEADG|          1|           31|         35|   N|                Y| 0.8857142857142857|\n",
            "|R1KEUH7SZ9BIRK|          1|           20|         20|   N|                Y|                1.0|\n",
            "|R16U59S8ZJGPLY|          5|           64|         64|   N|                Y|                1.0|\n",
            "|R233D4SD2MHUZG|          5|           20|         20|   N|                Y|                1.0|\n",
            "| RVDGV2G8PEUH2|          1|           13|         21|   N|                N| 0.6190476190476191|\n",
            "+--------------+-----------+-------------+-----------+----+-----------------+-------------------+\n",
            "only showing top 20 rows\n",
            "\n"
          ]
        }
      ]
    },
    {
      "cell_type": "code",
      "source": [
        "non_vine_votes_df.count()"
      ],
      "metadata": {
        "colab": {
          "base_uri": "https://localhost:8080/"
        },
        "id": "rSMFcGtCAyWC",
        "outputId": "4fa2fa40-460a-4a65-cde3-f177e7e6dd64"
      },
      "execution_count": 29,
      "outputs": [
        {
          "output_type": "execute_result",
          "data": {
            "text/plain": [
              "38829"
            ]
          },
          "metadata": {},
          "execution_count": 29
        }
      ]
    },
    {
      "cell_type": "code",
      "source": [
        "non_vine_5_star = non_vine_votes_df.filter(non_vine_votes_df.star_rating == 5)\n",
        "non_vine_5_star.show()"
      ],
      "metadata": {
        "colab": {
          "base_uri": "https://localhost:8080/"
        },
        "id": "PlCGsTgTAyfc",
        "outputId": "15cdb884-cd3d-4e4e-b6ff-b4b09457652f"
      },
      "execution_count": 30,
      "outputs": [
        {
          "output_type": "stream",
          "name": "stdout",
          "text": [
            "+--------------+-----------+-------------+-----------+----+-----------------+-------------------+\n",
            "|     review_id|star_rating|helpful_votes|total_votes|vine|verified_purchase|Helpful_Total_Votes|\n",
            "+--------------+-----------+-------------+-----------+----+-----------------+-------------------+\n",
            "|R1OA24IIHWF54G|          5|           43|         45|   N|                Y| 0.9555555555555556|\n",
            "|R1W8778CBXSRU6|          5|           28|         29|   N|                Y| 0.9655172413793104|\n",
            "|R2QYLQEK9UAJQ6|          5|           33|         34|   N|                Y| 0.9705882352941176|\n",
            "|R2U8FRHRVW5D2C|          5|           23|         23|   N|                N|                1.0|\n",
            "|R2KBV3A9X53ULG|          5|           39|         45|   N|                Y| 0.8666666666666667|\n",
            "|R18XX6GVZ41CY1|          5|           21|         22|   N|                N| 0.9545454545454546|\n",
            "|R3V8NHJWQWOU7S|          5|           27|         27|   N|                Y|                1.0|\n",
            "|R16U59S8ZJGPLY|          5|           64|         64|   N|                Y|                1.0|\n",
            "|R233D4SD2MHUZG|          5|           20|         20|   N|                Y|                1.0|\n",
            "|R3V9VFI77AVKRN|          5|           30|         32|   N|                Y|             0.9375|\n",
            "| REXYRV9DMU1MF|          5|           18|         20|   N|                Y|                0.9|\n",
            "| RUX53ITU3O0H6|          5|           91|         93|   N|                Y|  0.978494623655914|\n",
            "|R2B8CIV5SUL9DJ|          5|           36|         37|   N|                Y|  0.972972972972973|\n",
            "|R2738J6IFUH9P0|          5|           27|         30|   N|                Y|                0.9|\n",
            "| RGOZGBOCG0H1B|          5|           50|         54|   N|                N| 0.9259259259259259|\n",
            "| RQZU47N1C7R9U|          5|           21|         22|   N|                Y| 0.9545454545454546|\n",
            "|R2F10XQ4LKB1QA|          5|           26|         26|   N|                Y|                1.0|\n",
            "| RXXQ7VW3R4W7N|          5|           18|         20|   N|                N|                0.9|\n",
            "|R1IP35MTO9Q4D6|          5|           21|         23|   N|                Y| 0.9130434782608695|\n",
            "|R3P81LTX3LPDR3|          5|           26|         28|   N|                Y| 0.9285714285714286|\n",
            "+--------------+-----------+-------------+-----------+----+-----------------+-------------------+\n",
            "only showing top 20 rows\n",
            "\n"
          ]
        }
      ]
    },
    {
      "cell_type": "code",
      "source": [
        "non_vine_5_star.count()"
      ],
      "metadata": {
        "colab": {
          "base_uri": "https://localhost:8080/"
        },
        "id": "rIFn9vNIBPBo",
        "outputId": "3da5a233-fdb2-4f05-d418-0d91f53d939d"
      },
      "execution_count": 31,
      "outputs": [
        {
          "output_type": "execute_result",
          "data": {
            "text/plain": [
              "18246"
            ]
          },
          "metadata": {},
          "execution_count": 31
        }
      ]
    },
    {
      "cell_type": "code",
      "source": [
        "(non_vine_5_star.count()/ non_vine_votes_df.count())*100"
      ],
      "metadata": {
        "colab": {
          "base_uri": "https://localhost:8080/"
        },
        "id": "ycTzybNmAyp1",
        "outputId": "a7afde48-0af8-41d5-f467-05ffb23817f9"
      },
      "execution_count": 34,
      "outputs": [
        {
          "output_type": "execute_result",
          "data": {
            "text/plain": [
              "46.99065131731438"
            ]
          },
          "metadata": {},
          "execution_count": 34
        }
      ]
    }
  ]
}